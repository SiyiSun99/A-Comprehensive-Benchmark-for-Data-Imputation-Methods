{
 "cells": [
  {
   "cell_type": "code",
   "execution_count": 1,
   "id": "13bce290",
   "metadata": {},
   "outputs": [],
   "source": [
    "import glob\n",
    "import pandas as pd\n",
    "import numpy as np"
   ]
  },
  {
   "cell_type": "code",
   "execution_count": 2,
   "id": "b8fffa86",
   "metadata": {},
   "outputs": [],
   "source": [
    "Case_num = [14]\n",
    "miss_mechanism = ['MCAR','MAR','MNAR']\n",
    "miss_ratio = [10,30,50]\n",
    "test_number = 10"
   ]
  },
  {
   "cell_type": "code",
   "execution_count": 4,
   "id": "89943f4f",
   "metadata": {},
   "outputs": [],
   "source": [
    "for mechanism in miss_mechanism:\n",
    "    for case in Case_num:\n",
    "        for ratio in miss_ratio:\n",
    "            for n in range(test_number):\n",
    "                miss_file_path = f\"data_stored/data_miss/{mechanism}/Case{case}/miss{ratio}/{n}.csv\"\n",
    "                miss_file = pd.read_csv(miss_file_path)\n",
    "\n",
    "                # categorical columns\n",
    "                for col in miss_file[[c for c in miss_file.columns if c[:3] == 'cat']]:\n",
    "                    miss_file[col].fillna(miss_file[col].mode()[0], inplace=True)\n",
    "\n",
    "                # numeric columns\n",
    "                for col in miss_file[[c for c in miss_file.columns if c[:3] == 'con']]:\n",
    "                    miss_file[col].fillna(miss_file[col].mean().round(4) , inplace=True)\n",
    "\n",
    "                # save completed file\n",
    "                full_file_path = f\"data_stored/data_mean/{mechanism}/Case{case}/miss{ratio}/{n}.csv\"\n",
    "                miss_file.to_csv(full_file_path, index = False)"
   ]
  },
  {
   "cell_type": "code",
   "execution_count": null,
   "id": "bdea9e2d",
   "metadata": {},
   "outputs": [],
   "source": []
  }
 ],
 "metadata": {
  "kernelspec": {
   "display_name": "Python 3 (ipykernel)",
   "language": "python",
   "name": "python3"
  },
  "language_info": {
   "codemirror_mode": {
    "name": "ipython",
    "version": 3
   },
   "file_extension": ".py",
   "mimetype": "text/x-python",
   "name": "python",
   "nbconvert_exporter": "python",
   "pygments_lexer": "ipython3",
   "version": "3.11.5"
  }
 },
 "nbformat": 4,
 "nbformat_minor": 5
}
